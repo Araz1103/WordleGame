{
 "cells": [
  {
   "cell_type": "markdown",
   "id": "6cf3d277",
   "metadata": {},
   "source": [
    "# Wordle Game\n",
    "\n",
    "## Inputs Required\n",
    "\n",
    "- Word Corpus as a text file (See format as in WORDLE_FIVE_LETTER_CORPUS.txt\n",
    "- n - number of letters to guess (This should be according to your corpus)\n",
    "- p - number of tries available to the user\n",
    "- The rules for wordle remain the same\n",
    "\n",
    "- Green is when a letter is in the word and in the right place\n",
    "- Yellow is when a letter is in the word but not in the right place\n",
    "- Gray is when the letter isn't in the word"
   ]
  },
  {
   "cell_type": "code",
   "execution_count": 1,
   "id": "981ccef7",
   "metadata": {},
   "outputs": [],
   "source": [
    "FIVE_LETTER_CORPUS = []\n",
    "final_cleaned_corpus = open(\"WORDLE_FIVE_LETTER_CORPUS.txt\", \"r\")\n",
    "for line in final_cleaned_corpus.readlines():\n",
    "    FIVE_LETTER_CORPUS.append(line.strip())\n",
    "    \n",
    "final_cleaned_corpus.close()"
   ]
  },
  {
   "cell_type": "code",
   "execution_count": 2,
   "id": "8d1c0e61",
   "metadata": {},
   "outputs": [
    {
     "data": {
      "text/plain": [
       "2480"
      ]
     },
     "execution_count": 2,
     "metadata": {},
     "output_type": "execute_result"
    }
   ],
   "source": [
    "len(FIVE_LETTER_CORPUS)"
   ]
  },
  {
   "cell_type": "markdown",
   "id": "d04c2b27",
   "metadata": {},
   "source": [
    "### I: Getting the n-word list"
   ]
  },
  {
   "cell_type": "code",
   "execution_count": 3,
   "id": "16e64a8c",
   "metadata": {},
   "outputs": [],
   "source": [
    "# n is chosen by user\n",
    "\n",
    "vocab = FIVE_LETTER_CORPUS\n",
    "n = 5 #Fixed for our corpus, can change with another corpus\n",
    "n_words = [w for w in vocab if len(w)==n]"
   ]
  },
  {
   "cell_type": "code",
   "execution_count": 4,
   "id": "83ab6b59",
   "metadata": {},
   "outputs": [
    {
     "data": {
      "text/plain": [
       "2480"
      ]
     },
     "execution_count": 4,
     "metadata": {},
     "output_type": "execute_result"
    }
   ],
   "source": [
    "len(n_words)"
   ]
  },
  {
   "cell_type": "markdown",
   "id": "90fc6d81",
   "metadata": {},
   "source": [
    "### Making sure all words are unique"
   ]
  },
  {
   "cell_type": "code",
   "execution_count": 5,
   "id": "a23f1e17",
   "metadata": {},
   "outputs": [],
   "source": [
    "n_words = list(set(n_words))"
   ]
  },
  {
   "cell_type": "code",
   "execution_count": 6,
   "id": "aa7cdec7",
   "metadata": {},
   "outputs": [
    {
     "data": {
      "text/plain": [
       "2480"
      ]
     },
     "execution_count": 6,
     "metadata": {},
     "output_type": "execute_result"
    }
   ],
   "source": [
    "len(n_words)"
   ]
  },
  {
   "cell_type": "code",
   "execution_count": 7,
   "id": "4f045a5a",
   "metadata": {},
   "outputs": [],
   "source": [
    "removal_corpus = n_words.copy()"
   ]
  },
  {
   "cell_type": "markdown",
   "id": "93151678",
   "metadata": {},
   "source": [
    "### II: Using the n-word list to get word of the 'day' \n",
    "- Once we get it, we remove from removal_corpus, so as to not repeat the word of the day untill we're fully exhuasted"
   ]
  },
  {
   "cell_type": "code",
   "execution_count": 8,
   "id": "dc244535",
   "metadata": {},
   "outputs": [],
   "source": [
    "import random"
   ]
  },
  {
   "cell_type": "code",
   "execution_count": 16,
   "id": "4348bf1e",
   "metadata": {},
   "outputs": [],
   "source": [
    "word_of_day = random.choice(removal_corpus)"
   ]
  },
  {
   "cell_type": "code",
   "execution_count": 17,
   "id": "f7799400",
   "metadata": {},
   "outputs": [],
   "source": [
    "removal_corpus.remove(word_of_day)"
   ]
  },
  {
   "cell_type": "code",
   "execution_count": 18,
   "id": "edbe3175",
   "metadata": {},
   "outputs": [
    {
     "data": {
      "text/plain": [
       "2478"
      ]
     },
     "execution_count": 18,
     "metadata": {},
     "output_type": "execute_result"
    }
   ],
   "source": [
    "len(removal_corpus)"
   ]
  },
  {
   "cell_type": "markdown",
   "id": "becd3db9",
   "metadata": {},
   "source": [
    "### III: Logic for Wordle\n",
    "- User can set number of tries"
   ]
  },
  {
   "cell_type": "code",
   "execution_count": 12,
   "id": "7c5d0330",
   "metadata": {},
   "outputs": [],
   "source": [
    "class WordError(Exception):\n",
    "    pass"
   ]
  },
  {
   "cell_type": "code",
   "execution_count": 13,
   "id": "36f805c2",
   "metadata": {},
   "outputs": [],
   "source": [
    "class WordSetError(Exception):\n",
    "    pass"
   ]
  },
  {
   "cell_type": "code",
   "execution_count": 14,
   "id": "fbdb2681",
   "metadata": {},
   "outputs": [],
   "source": [
    "def generate_dic(word):\n",
    "    word_dic = {}\n",
    "    word = word.lower()\n",
    "    for letter in word:\n",
    "        if(letter in word_dic):\n",
    "            word_dic[letter]+=1\n",
    "        else:\n",
    "            word_dic[letter] = 1\n",
    "            \n",
    "    return word_dic"
   ]
  },
  {
   "cell_type": "code",
   "execution_count": 19,
   "id": "78ef5cb1",
   "metadata": {},
   "outputs": [
    {
     "name": "stdout",
     "output_type": "stream",
     "text": [
      "\n",
      "Enter your guess!\n",
      "plate\n",
      " Gray   Yellow   Gray   Yellow   Yellow  \n",
      "Enter your guess!\n",
      "tells\n",
      " Yellow   Yellow   Gray   Green   Gray  \n",
      "Enter your guess!\n",
      "smelt\n",
      " Gray   Gray   Yellow   Green   Green  \n",
      "Enter your guess!\n",
      "exult\n",
      " Green   Green   Green   Green   Green  Guessed Correctly!\n",
      "\n",
      "Correct Word is:  exult\n"
     ]
    }
   ],
   "source": [
    "p = 6\n",
    "char_in_word = set(list(word_of_day))\n",
    "\n",
    "for tries in range(p):\n",
    "    word_dic = generate_dic(word_of_day)\n",
    "    flag = 1\n",
    "    while flag:\n",
    "        try:\n",
    "            guess = input(\"\\nEnter your guess!\\n\")\n",
    "            flag = 0\n",
    "\n",
    "            if(len(guess)!=n):\n",
    "                raise WordError() \n",
    "                \n",
    "            if(guess not in set(n_words)):\n",
    "                raise WordSetError()\n",
    "            \n",
    "        except WordError:\n",
    "            print(f\"\\nPlease enter a {n} letter word\\n\")\n",
    "            flag = 1\n",
    "        except WordSetError:\n",
    "            print(\"\\nWord not in Vocab\\n\")\n",
    "            flag = 1\n",
    "\n",
    "    word_reference = list(word_of_day)\n",
    "    result_list = [2 for i in range(n)] #Used at end to tell user his result\n",
    "    possible_yellow = []\n",
    "    \n",
    "    #Look for all Greens and Grays first\n",
    "    for place in range(n):\n",
    "        guess_word = guess[place]\n",
    "        if(guess_word==word_of_day[place]):\n",
    "            word_dic[guess_word]-=1\n",
    "            result_list[place] = 1\n",
    "        elif(guess_word not in char_in_word):\n",
    "            result_list[place] = 0\n",
    "        \n",
    "        else:\n",
    "            possible_yellow.append(place)\n",
    "            \n",
    "\n",
    "    #In the result list: 1s are greens and 0s are grays\n",
    "    #Left are to be decided as yellow or grey based on word_dic\n",
    "    \n",
    "    for place in possible_yellow:\n",
    "        guess_word = guess[place]\n",
    "        if(word_dic[guess_word]==0):\n",
    "            result_list[place] = 0\n",
    "        else:\n",
    "            word_dic[guess_word]-=1\n",
    "            \n",
    "            \n",
    "    # Result based on the list\n",
    "    correct_guess = 0\n",
    "    \n",
    "    for res in result_list:\n",
    "        if(res==1):\n",
    "            print(\" Green \", end=\" \")\n",
    "            correct_guess+=1\n",
    "        elif(res==2):\n",
    "            print(\" Yellow \", end=\" \"),\n",
    "        else:\n",
    "            print(\" Gray \", end=\" \")\n",
    "            \n",
    "    if(correct_guess==len(result_list)):\n",
    "        print(\"Guessed Correctly!\")\n",
    "        break\n",
    "            \n",
    "print(\"\\nCorrect Word is: \", word_of_day)\n",
    "        \n",
    "    \n",
    "    "
   ]
  },
  {
   "cell_type": "code",
   "execution_count": null,
   "id": "9ce4b1d6",
   "metadata": {},
   "outputs": [],
   "source": []
  }
 ],
 "metadata": {
  "kernelspec": {
   "display_name": "Python 3 (ipykernel)",
   "language": "python",
   "name": "python3"
  },
  "language_info": {
   "codemirror_mode": {
    "name": "ipython",
    "version": 3
   },
   "file_extension": ".py",
   "mimetype": "text/x-python",
   "name": "python",
   "nbconvert_exporter": "python",
   "pygments_lexer": "ipython3",
   "version": "3.9.7"
  }
 },
 "nbformat": 4,
 "nbformat_minor": 5
}
